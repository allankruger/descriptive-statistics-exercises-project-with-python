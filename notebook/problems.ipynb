{
    "cells": [
        {
            "cell_type": "markdown",
            "id": "ac622319",
            "metadata": {},
            "source": [
                "# Descriptive statistics problems"
            ]
        },
        {
            "cell_type": "markdown",
            "id": "5e0ab0d5",
            "metadata": {},
            "source": [
                "### Exercise 1\n",
                "\n",
                "We will use NumPy to obtain information to describe statistically.\n",
                "\n",
                "- Generate an array of 100 elements following a normal distribution.\n",
                "- Generate an array of 100 elements following a chi-square distribution with 3 degrees of freedom.\n",
                "- Calculate the main metrics and statistical measures that best describe the two vectors."
            ]
        },
        {
            "cell_type": "code",
            "execution_count": 6,
            "id": "34720ab6",
            "metadata": {},
            "outputs": [
                {
                    "name": "stdout",
                    "output_type": "stream",
                    "text": [
                        "Normal: [-0.91479798 -0.98971496  1.60388439 -0.2782311  -0.37746818  1.30750672\n",
                        " -2.18495849  1.22295323  0.42664099 -1.16226784 -0.54644069 -0.39955521\n",
                        "  0.52062203  0.24377162  0.94190797  0.35843322  0.51598756  0.11967083\n",
                        "  0.1305545   0.17728267  0.20129378 -0.36134838  0.84181241 -0.68328541\n",
                        "  0.18535519  0.27752957 -0.3655661  -0.60578149 -0.17796488 -0.48782058\n",
                        "  0.45972537  0.15916479  0.13806092 -0.3041323   0.61405345  0.51936491\n",
                        "  0.09176303 -0.82461542 -1.33137205 -0.51088689  1.02754742  2.30868122\n",
                        " -0.43294302 -1.90291651  0.48391128 -0.43481811 -0.69840441  0.385893\n",
                        " -0.25103618 -0.01803288  0.98322106  0.79063859 -2.1337803   0.17208912\n",
                        "  0.63652092  0.75542086 -0.41192608  0.19701261 -2.8415274   0.25863465\n",
                        "  0.0883076  -0.1465964   0.68679609 -0.49164704  1.60293514 -1.46806093\n",
                        " -0.74252094 -0.97325069 -0.22878866  0.83043172  1.55584552  0.31323397\n",
                        " -0.07687703 -0.7192785   1.43094581  0.55063578 -2.14010375 -0.59409845\n",
                        "  1.13489884  1.43441922 -0.08704415 -0.98464943 -0.35122803 -0.01496746\n",
                        " -2.55372116 -0.45835999  1.24759207 -0.38691774  0.54503599 -0.43354094\n",
                        " -0.4321656  -1.07708636 -0.39944251  0.80908827 -0.93341526 -0.86274941\n",
                        " -0.82211063 -0.96290315  0.1950524  -1.66383388]\n",
                        "Chi-square: [ 5.33469369  1.56827402  4.88238828  5.68849378  3.2371412   1.64424109\n",
                        "  0.28081581  1.2995269   4.90524653  1.5216111   1.88364119  1.69294126\n",
                        "  0.65727789  0.76494293  2.57178018  4.87249759  8.69056828 13.89592937\n",
                        "  5.88295427  1.17291147  4.15100315  4.32338756  1.48922506  1.84905737\n",
                        "  2.10367289  1.43473578  5.71690248  4.00507514 13.98186485  6.82424867\n",
                        "  0.76454235  3.56547499  3.93537909  1.14793887  2.64833625  2.72550526\n",
                        "  3.24566118  2.04978886  1.14408025  3.44375741  5.32628411  7.98794473\n",
                        "  3.62321968  4.91727427  0.33175698  3.89381316  1.51418628  8.8608549\n",
                        "  0.87638285  6.01379556  4.7528439   5.23601725  2.10325849  1.74010789\n",
                        "  1.14850232  3.55719801  2.86234141  2.29179006  0.86515358  6.41163558\n",
                        "  3.23388246  1.52207814  2.31010564  7.94607972  6.27182593  3.26752677\n",
                        "  1.13493054  1.82374612  3.48042068  4.94310764  2.26941395  1.58763346\n",
                        "  2.29958653  0.29435131  3.82668481  1.53480939  2.58985102  0.38987783\n",
                        "  1.43680203  1.30979024  4.30187849  3.78719859 11.31942999  9.25281287\n",
                        "  2.12821792  0.11589915  0.85817164  2.04429056  1.98761249  8.76595825\n",
                        "  6.32512444  1.34279121  2.76076272  7.59208123  0.95937226  3.49731194\n",
                        "  3.47322922  1.48620778  3.36731214  2.09222332]\n"
                    ]
                }
            ],
            "source": [
                "import numpy as np\n",
                "import statistics as stats\n",
                "\n",
                "normal = np.random.normal(size=100)\n",
                "chi_square = np.random.chisquare(3, 100)\n",
                "\n",
                "print(f\"Normal: {normal}\")\n",
                "print(f\"Chi-square: {chi_square}\")\n"
            ]
        },
        {
            "cell_type": "code",
            "execution_count": 15,
            "id": "7374f2e6",
            "metadata": {},
            "outputs": [
                {
                    "name": "stdout",
                    "output_type": "stream",
                    "text": [
                        "Mean\n",
                        "Normal distribution mean: -0.10154822655391592\n",
                        "Chi-square distribution mean: 3.482422656868394\n"
                    ]
                }
            ],
            "source": [
                "#Mean\n",
                "print(\"Mean\")\n",
                "print(f\"Normal distribution mean: {stats.mean(normal)}\")\n",
                "print(f\"Chi-square distribution mean: {stats.mean(chi_square)}\")"
            ]
        },
        {
            "cell_type": "code",
            "execution_count": 17,
            "id": "6edd781d",
            "metadata": {},
            "outputs": [
                {
                    "name": "stdout",
                    "output_type": "stream",
                    "text": [
                        "Median\n",
                        "Normal distribution median: -0.08196059243130593\n",
                        "Chi-square distribution median: 2.6869207579472687\n"
                    ]
                }
            ],
            "source": [
                "#Median\n",
                "print(\"Median\")\n",
                "print(f\"Normal distribution median: {stats.median(normal)}\")\n",
                "print(f\"Chi-square distribution median: {stats.median(chi_square)}\")"
            ]
        },
        {
            "cell_type": "code",
            "execution_count": 19,
            "id": "a042c904",
            "metadata": {},
            "outputs": [
                {
                    "name": "stdout",
                    "output_type": "stream",
                    "text": [
                        "Moda\n",
                        "Normal distribution mode: -0.9147979762571007\n",
                        "Chi-square distribution mode: 5.334693686333755\n"
                    ]
                }
            ],
            "source": [
                "#Mode\n",
                "print(\"Moda\")\n",
                "print(f\"Normal distribution mode: {stats.mode(normal)}\")\n",
                "print(f\"Chi-square distribution mode: {stats.mode(chi_square)}\")"
            ]
        },
        {
            "cell_type": "code",
            "execution_count": 21,
            "id": "5a18fa76",
            "metadata": {},
            "outputs": [
                {
                    "name": "stdout",
                    "output_type": "stream",
                    "text": [
                        "Range\n",
                        "Normal distribution range: 5.150208625289041\n",
                        "Chi-square distribution range: 13.865965700056472\n"
                    ]
                }
            ],
            "source": [
                "#Range\n",
                "print(\"Range\")\n",
                "print(f\"Normal distribution range: {max(normal) - min(normal)}\")\n",
                "print(f\"Chi-square distribution range: {max(chi_square) - min(chi_square)}\")"
            ]
        },
        {
            "cell_type": "code",
            "execution_count": 23,
            "id": "2ca6d10b",
            "metadata": {},
            "outputs": [
                {
                    "name": "stdout",
                    "output_type": "stream",
                    "text": [
                        "Variance\n",
                        "Normal distribution variance: 0.8845932908740318\n",
                        "Chi-square distribution variance: 7.664475259787339\n"
                    ]
                }
            ],
            "source": [
                "#Variance\n",
                "print(\"Variance\")\n",
                "print(f\"Normal distribution variance: {stats.variance(normal)}\")\n",
                "print(f\"Chi-square distribution variance: {stats.variance(chi_square)}\")"
            ]
        },
        {
            "cell_type": "code",
            "execution_count": 24,
            "id": "060f65b6",
            "metadata": {},
            "outputs": [
                {
                    "name": "stdout",
                    "output_type": "stream",
                    "text": [
                        "Standard Deviation\n",
                        "Normal distribution deviation: 0.9405281978090991\n",
                        "Chi-square distribution deviation: 2.7684788711108737\n"
                    ]
                }
            ],
            "source": [
                "#Standard Deviation\n",
                "print(\"Standard Deviation\")\n",
                "print(f\"Normal distribution deviation: {stats.stdev(normal)}\")\n",
                "print(f\"Chi-square distribution deviation: {stats.stdev(chi_square)}\")"
            ]
        },
        {
            "cell_type": "code",
            "execution_count": 25,
            "id": "48c767be",
            "metadata": {},
            "outputs": [
                {
                    "name": "stdout",
                    "output_type": "stream",
                    "text": [
                        "Skewness\n",
                        "Normal distribution deviation: -0.3391040283592317\n",
                        "Chi-square distribution deviation: 1.589528161817811\n"
                    ]
                }
            ],
            "source": [
                "from scipy.stats import skew\n",
                "\n",
                "#Skewness\n",
                "print(\"Skewness\")\n",
                "print(f\"Normal distribution skewness: {skew(normal)}\")\n",
                "print(f\"Chi-square distribution skewness: {skew(chi_square)}\")"
            ]
        },
        {
            "cell_type": "code",
            "execution_count": 26,
            "id": "f58366db",
            "metadata": {},
            "outputs": [
                {
                    "name": "stdout",
                    "output_type": "stream",
                    "text": [
                        "Kurtosis\n",
                        "Normal distribution kurtosis: 0.4815479308962973\n",
                        "Chi-square distribution kurtosis: 2.9193043818767954\n"
                    ]
                }
            ],
            "source": [
                "from scipy.stats import kurtosis\n",
                "\n",
                "#Kurtosis\n",
                "print(\"Kurtosis\")\n",
                "print(f\"Normal distribution kurtosis: {kurtosis(normal)}\")\n",
                "print(f\"Chi-square distribution kurtosis: {kurtosis(chi_square)}\")"
            ]
        },
        {
            "cell_type": "markdown",
            "id": "46c70c3d",
            "metadata": {},
            "source": [
                "### Exercise 2\n",
                "\n",
                "Write a Python program to calculate the standard deviation of the following data:\n",
                "\n",
                "```py\n",
                "data = [4, 2, 5, 8, 6]\n",
                "```"
            ]
        },
        {
            "cell_type": "code",
            "execution_count": 2,
            "id": "d590308e",
            "metadata": {},
            "outputs": [],
            "source": [
                "def get_standard_deviation"
            ]
        }
    ],
    "metadata": {
        "interpreter": {
            "hash": "9248718ffe6ce6938b217e69dbcc175ea21f4c6b28a317e96c05334edae734bb"
        },
        "kernelspec": {
            "display_name": "Python 3.9.12 ('ML-BOOTCAMP')",
            "language": "python",
            "name": "python3"
        },
        "language_info": {
            "codemirror_mode": {
                "name": "ipython",
                "version": 3
            },
            "file_extension": ".py",
            "mimetype": "text/x-python",
            "name": "python",
            "nbconvert_exporter": "python",
            "pygments_lexer": "ipython3",
            "version": "3.11.4"
        }
    },
    "nbformat": 4,
    "nbformat_minor": 5
}
